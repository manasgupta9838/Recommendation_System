{
 "cells": [
  {
   "cell_type": "code",
   "execution_count": 75,
   "metadata": {},
   "outputs": [],
   "source": [
    "import pandas as pd\n",
    "import numpy as np"
   ]
  },
  {
   "cell_type": "code",
   "execution_count": 76,
   "metadata": {},
   "outputs": [],
   "source": [
    "df =pd.read_csv('products_bottles_details.csv')"
   ]
  },
  {
   "cell_type": "code",
   "execution_count": 83,
   "metadata": {},
   "outputs": [],
   "source": [
    "df.price = df.price.str.replace(',','')\n",
    "df.price = df.price.str.strip()\n",
    "prices=df[df.price.astype(float)>0]"
   ]
  },
  {
   "cell_type": "code",
   "execution_count": 100,
   "metadata": {},
   "outputs": [],
   "source": [
    "out=df.loc[df.price.astype(float).idxmin()]"
   ]
  },
  {
   "cell_type": "code",
   "execution_count": 103,
   "metadata": {},
   "outputs": [
    {
     "name": "stdout",
     "output_type": "stream",
     "text": [
      "('title', 'Milton Kool Spark 400 Plastic School Water Bottle, 370ml, Blue')\n",
      "('price', '145.0')\n",
      "('reviews', 42.0)\n",
      "('rating', 3.7)\n",
      "('company', 'MILTON')\n",
      "('customerreviews', '3.7 out of 5 stars')\n",
      "('link', 'https://www.amazon.in/dp/B01LXYA801/ref=sxbs_sxwds-deals_5/258-7013734-4049625?pf_rd_p=ace0ad48-bfaf-4290-94f6-b92e826f3fb1&pd_rd_wg=xNroz&pf_rd_r=ZQSW02J8CAH6Y7MP9AKM&pd_rd_i=B01LXYA801&pd_rd_w=tZpOv&pd_rd_r=986c008a-0519-4a86-9229-0ef71ae81fde&ie=UTF8&qid=1551610538&sr=5')\n"
     ]
    }
   ],
   "source": [
    "for item in out.items():\n",
    "    print(item)"
   ]
  },
  {
   "cell_type": "code",
   "execution_count": 74,
   "metadata": {},
   "outputs": [
    {
     "data": {
      "text/plain": [
       "title              Henry Coleman Umgeben Collection Amber Silver ...\n",
       "price                                                            NaN\n",
       "reviews                                                            1\n",
       "rating                                                             5\n",
       "company                                                Henry Coleman\n",
       "customerreviews                                   5.0 out of 5 stars\n",
       "link               https://www.amazon.in/Henry-Coleman-Umgeben-Co...\n",
       "Name: 20, dtype: object"
      ]
     },
     "execution_count": 74,
     "metadata": {},
     "output_type": "execute_result"
    }
   ],
   "source": [
    "out"
   ]
  },
  {
   "cell_type": "code",
   "execution_count": 38,
   "metadata": {},
   "outputs": [
    {
     "data": {
      "text/html": [
       "<div>\n",
       "<style scoped>\n",
       "    .dataframe tbody tr th:only-of-type {\n",
       "        vertical-align: middle;\n",
       "    }\n",
       "\n",
       "    .dataframe tbody tr th {\n",
       "        vertical-align: top;\n",
       "    }\n",
       "\n",
       "    .dataframe thead th {\n",
       "        text-align: right;\n",
       "    }\n",
       "</style>\n",
       "<table border=\"1\" class=\"dataframe\">\n",
       "  <thead>\n",
       "    <tr style=\"text-align: right;\">\n",
       "      <th></th>\n",
       "      <th>company</th>\n",
       "      <th>customerreviews</th>\n",
       "      <th>link</th>\n",
       "      <th>price</th>\n",
       "      <th>rating</th>\n",
       "      <th>reviews</th>\n",
       "      <th>title</th>\n",
       "    </tr>\n",
       "  </thead>\n",
       "  <tbody>\n",
       "    <tr>\n",
       "      <th>0</th>\n",
       "      <td>Puro</td>\n",
       "      <td>3.2 out of 5 stars</td>\n",
       "      <td>https://www.amazon.in/Puro-5-1-Multipurpose-Pe...</td>\n",
       "      <td>165.0</td>\n",
       "      <td>3.2</td>\n",
       "      <td>410.0</td>\n",
       "      <td>Puro 5 In 1 Multipurpose Pen</td>\n",
       "    </tr>\n",
       "  </tbody>\n",
       "</table>\n",
       "</div>"
      ],
      "text/plain": [
       "  company     customerreviews  \\\n",
       "0    Puro  3.2 out of 5 stars   \n",
       "\n",
       "                                                link  price  rating  reviews  \\\n",
       "0  https://www.amazon.in/Puro-5-1-Multipurpose-Pe...  165.0     3.2    410.0   \n",
       "\n",
       "                          title  \n",
       "0  Puro 5 In 1 Multipurpose Pen  "
      ]
     },
     "execution_count": 38,
     "metadata": {},
     "output_type": "execute_result"
    }
   ],
   "source": [
    "pd.DataFrame(out.to_dict(),index=[0])"
   ]
  },
  {
   "cell_type": "code",
   "execution_count": 92,
   "metadata": {},
   "outputs": [],
   "source": [
    "product1={'title':prices['title'],'link':prices['link']}\n",
    "    "
   ]
  },
  {
   "cell_type": "code",
   "execution_count": 93,
   "metadata": {},
   "outputs": [
    {
     "ename": "AttributeError",
     "evalue": "'str' object has no attribute 'astype'",
     "traceback": [
      "\u001b[1;31m---------------------------------------------------------------------------\u001b[0m",
      "\u001b[1;31mAttributeError\u001b[0m                            Traceback (most recent call last)",
      "\u001b[1;32m<ipython-input-93-9815250d96b5>\u001b[0m in \u001b[0;36m<module>\u001b[1;34m()\u001b[0m\n\u001b[1;32m----> 1\u001b[1;33m \u001b[0mprices\u001b[0m\u001b[1;33m=\u001b[0m\u001b[0mprices\u001b[0m\u001b[1;33m.\u001b[0m\u001b[0mloc\u001b[0m\u001b[1;33m[\u001b[0m\u001b[0mprices\u001b[0m\u001b[1;33m.\u001b[0m\u001b[0mprice\u001b[0m\u001b[1;33m.\u001b[0m\u001b[0mastype\u001b[0m\u001b[1;33m(\u001b[0m\u001b[0mfloat\u001b[0m\u001b[1;33m)\u001b[0m\u001b[1;33m.\u001b[0m\u001b[0midxmin\u001b[0m\u001b[1;33m(\u001b[0m\u001b[1;33m)\u001b[0m\u001b[1;33m]\u001b[0m\u001b[1;33m\u001b[0m\u001b[0m\n\u001b[0m",
      "\u001b[1;31mAttributeError\u001b[0m: 'str' object has no attribute 'astype'"
     ],
     "output_type": "error"
    }
   ],
   "source": [
    "prices=prices.loc[prices.price.astype(float).idxmin()]"
   ]
  },
  {
   "cell_type": "code",
   "execution_count": 94,
   "metadata": {},
   "outputs": [
    {
     "data": {
      "text/plain": [
       "{'link': 'https://www.amazon.in/dp/B01LXYA801/ref=sxbs_sxwds-deals_5/258-7013734-4049625?pf_rd_p=ace0ad48-bfaf-4290-94f6-b92e826f3fb1&pd_rd_wg=xNroz&pf_rd_r=ZQSW02J8CAH6Y7MP9AKM&pd_rd_i=B01LXYA801&pd_rd_w=tZpOv&pd_rd_r=986c008a-0519-4a86-9229-0ef71ae81fde&ie=UTF8&qid=1551610538&sr=5',\n",
       " 'title': 'Milton Kool Spark 400 Plastic School Water Bottle, 370ml, Blue'}"
      ]
     },
     "execution_count": 94,
     "metadata": {},
     "output_type": "execute_result"
    }
   ],
   "source": [
    "product1"
   ]
  },
  {
   "cell_type": "code",
   "execution_count": null,
   "metadata": {},
   "outputs": [],
   "source": []
  }
 ],
 "metadata": {
  "kernelspec": {
   "display_name": "Python 3",
   "language": "python",
   "name": "python3"
  },
  "language_info": {
   "codemirror_mode": {
    "name": "ipython",
    "version": 3
   },
   "file_extension": ".py",
   "mimetype": "text/x-python",
   "name": "python",
   "nbconvert_exporter": "python",
   "pygments_lexer": "ipython3",
   "version": "3.6.4"
  }
 },
 "nbformat": 4,
 "nbformat_minor": 1
}
