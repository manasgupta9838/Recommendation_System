{
 "cells": [
  {
   "cell_type": "code",
   "execution_count": 1,
   "metadata": {},
   "outputs": [],
   "source": [
    "import pandas as pd"
   ]
  },
  {
   "cell_type": "code",
   "execution_count": 2,
   "metadata": {},
   "outputs": [],
   "source": [
    "brand=\"Samsung\""
   ]
  },
  {
   "cell_type": "code",
   "execution_count": 3,
   "metadata": {},
   "outputs": [],
   "source": [
    "df = pd.read_csv('products_Mobiles_details.csv')"
   ]
  },
  {
   "cell_type": "code",
   "execution_count": 8,
   "metadata": {},
   "outputs": [],
   "source": [
    "df_filtered = df[df.company.str.lower() == brand.lower()]"
   ]
  },
  {
   "cell_type": "code",
   "execution_count": 9,
   "metadata": {},
   "outputs": [
    {
     "data": {
      "text/html": [
       "<div>\n",
       "<style scoped>\n",
       "    .dataframe tbody tr th:only-of-type {\n",
       "        vertical-align: middle;\n",
       "    }\n",
       "\n",
       "    .dataframe tbody tr th {\n",
       "        vertical-align: top;\n",
       "    }\n",
       "\n",
       "    .dataframe thead th {\n",
       "        text-align: right;\n",
       "    }\n",
       "</style>\n",
       "<table border=\"1\" class=\"dataframe\">\n",
       "  <thead>\n",
       "    <tr style=\"text-align: right;\">\n",
       "      <th></th>\n",
       "      <th>title</th>\n",
       "      <th>price</th>\n",
       "      <th>reviews</th>\n",
       "      <th>rating</th>\n",
       "      <th>company</th>\n",
       "      <th>customerreviews</th>\n",
       "      <th>link</th>\n",
       "    </tr>\n",
       "  </thead>\n",
       "  <tbody>\n",
       "    <tr>\n",
       "      <th>2</th>\n",
       "      <td>Samsung Galaxy M10 (Ocean Blue, 3+32GB)</td>\n",
       "      <td>8,990.00</td>\n",
       "      <td>3100.0</td>\n",
       "      <td>4.1</td>\n",
       "      <td>Samsung</td>\n",
       "      <td>4.1 out of 5 stars</td>\n",
       "      <td>https://www.amazon.in/Samsung-Galaxy-Ocean-Blu...</td>\n",
       "    </tr>\n",
       "    <tr>\n",
       "      <th>10</th>\n",
       "      <td>Samsung Galaxy A30 (Red, 4GB RAM, 64GB Storage...</td>\n",
       "      <td>16,990.00</td>\n",
       "      <td>NaN</td>\n",
       "      <td>NaN</td>\n",
       "      <td>Samsung</td>\n",
       "      <td>NaN</td>\n",
       "      <td>https://www.amazon.in/Samsung-Galaxy-64GB-Stor...</td>\n",
       "    </tr>\n",
       "    <tr>\n",
       "      <th>16</th>\n",
       "      <td>Samsung Galaxy M20 (Charcoal Black, 4+64GB)</td>\n",
       "      <td>12,990.00</td>\n",
       "      <td>12319.0</td>\n",
       "      <td>3.7</td>\n",
       "      <td>Samsung</td>\n",
       "      <td>3.7 out of 5 stars</td>\n",
       "      <td>https://www.amazon.in/Samsung-Galaxy-Charcoal-...</td>\n",
       "    </tr>\n",
       "    <tr>\n",
       "      <th>18</th>\n",
       "      <td>Samsung Guru Music 2 (Gold)</td>\n",
       "      <td>1,625.00</td>\n",
       "      <td>7735.0</td>\n",
       "      <td>4.2</td>\n",
       "      <td>Samsung</td>\n",
       "      <td>4.2 out of 5 stars</td>\n",
       "      <td>https://www.amazon.in/Samsung-Guru-Music-2-Gol...</td>\n",
       "    </tr>\n",
       "    <tr>\n",
       "      <th>22</th>\n",
       "      <td>Samsung Guru Music 2 (Gold)</td>\n",
       "      <td>1,625.00</td>\n",
       "      <td>7735.0</td>\n",
       "      <td>4.2</td>\n",
       "      <td>Samsung</td>\n",
       "      <td>4.2 out of 5 stars</td>\n",
       "      <td>https://www.amazon.in/Samsung-Guru-Music-2-Gol...</td>\n",
       "    </tr>\n",
       "    <tr>\n",
       "      <th>31</th>\n",
       "      <td>Samsung Galaxy M20 (Charcoal Black, 4+64GB)</td>\n",
       "      <td>12,990.00</td>\n",
       "      <td>12319.0</td>\n",
       "      <td>3.7</td>\n",
       "      <td>Samsung</td>\n",
       "      <td>3.7 out of 5 stars</td>\n",
       "      <td>https://www.amazon.in/Samsung-Galaxy-Charcoal-...</td>\n",
       "    </tr>\n",
       "    <tr>\n",
       "      <th>39</th>\n",
       "      <td>Samsung Galaxy M10 (Ocean Blue, 3+32GB)</td>\n",
       "      <td>8,990.00</td>\n",
       "      <td>3100.0</td>\n",
       "      <td>4.1</td>\n",
       "      <td>Samsung</td>\n",
       "      <td>4.1 out of 5 stars</td>\n",
       "      <td>https://www.amazon.in/Samsung-Galaxy-Ocean-Blu...</td>\n",
       "    </tr>\n",
       "  </tbody>\n",
       "</table>\n",
       "</div>"
      ],
      "text/plain": [
       "                                                title       price  reviews  \\\n",
       "2             Samsung Galaxy M10 (Ocean Blue, 3+32GB)    8,990.00   3100.0   \n",
       "10  Samsung Galaxy A30 (Red, 4GB RAM, 64GB Storage...   16,990.00      NaN   \n",
       "16        Samsung Galaxy M20 (Charcoal Black, 4+64GB)   12,990.00  12319.0   \n",
       "18                        Samsung Guru Music 2 (Gold)    1,625.00   7735.0   \n",
       "22                        Samsung Guru Music 2 (Gold)    1,625.00   7735.0   \n",
       "31        Samsung Galaxy M20 (Charcoal Black, 4+64GB)   12,990.00  12319.0   \n",
       "39            Samsung Galaxy M10 (Ocean Blue, 3+32GB)    8,990.00   3100.0   \n",
       "\n",
       "    rating  company     customerreviews  \\\n",
       "2      4.1  Samsung  4.1 out of 5 stars   \n",
       "10     NaN  Samsung                 NaN   \n",
       "16     3.7  Samsung  3.7 out of 5 stars   \n",
       "18     4.2  Samsung  4.2 out of 5 stars   \n",
       "22     4.2  Samsung  4.2 out of 5 stars   \n",
       "31     3.7  Samsung  3.7 out of 5 stars   \n",
       "39     4.1  Samsung  4.1 out of 5 stars   \n",
       "\n",
       "                                                 link  \n",
       "2   https://www.amazon.in/Samsung-Galaxy-Ocean-Blu...  \n",
       "10  https://www.amazon.in/Samsung-Galaxy-64GB-Stor...  \n",
       "16  https://www.amazon.in/Samsung-Galaxy-Charcoal-...  \n",
       "18  https://www.amazon.in/Samsung-Guru-Music-2-Gol...  \n",
       "22  https://www.amazon.in/Samsung-Guru-Music-2-Gol...  \n",
       "31  https://www.amazon.in/Samsung-Galaxy-Charcoal-...  \n",
       "39  https://www.amazon.in/Samsung-Galaxy-Ocean-Blu...  "
      ]
     },
     "execution_count": 9,
     "metadata": {},
     "output_type": "execute_result"
    }
   ],
   "source": [
    "df_filtered"
   ]
  },
  {
   "cell_type": "code",
   "execution_count": null,
   "metadata": {},
   "outputs": [],
   "source": []
  }
 ],
 "metadata": {
  "kernelspec": {
   "display_name": "Python 3",
   "language": "python",
   "name": "python3"
  },
  "language_info": {
   "codemirror_mode": {
    "name": "ipython",
    "version": 3
   },
   "file_extension": ".py",
   "mimetype": "text/x-python",
   "name": "python",
   "nbconvert_exporter": "python",
   "pygments_lexer": "ipython3",
   "version": "3.6.5"
  }
 },
 "nbformat": 4,
 "nbformat_minor": 2
}
